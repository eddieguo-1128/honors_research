{
 "cells": [
  {
   "cell_type": "markdown",
   "id": "a5536857",
   "metadata": {},
   "source": [
    "# Thesis Code Part 1: Preprocess"
   ]
  },
  {
   "cell_type": "markdown",
   "id": "33dc1236",
   "metadata": {},
   "source": [
    "## Import Packages"
   ]
  },
  {
   "cell_type": "code",
   "execution_count": 1,
   "id": "d56a0e8c",
   "metadata": {},
   "outputs": [],
   "source": [
    "import re\n",
    "import os\n",
    "import pandas as pd\n",
    "import numpy as np\n",
    "import tqdm\n",
    "import pydicom as dcm\n",
    "from PIL import Image\n",
    "from sklearn.model_selection import train_test_split\n",
    "import matplotlib.pyplot as plt"
   ]
  },
  {
   "cell_type": "markdown",
   "id": "09a4cf6c",
   "metadata": {},
   "source": [
    "## UCSF CXR Dataset"
   ]
  },
  {
   "cell_type": "code",
   "execution_count": 13,
   "id": "9ff05c03",
   "metadata": {
    "scrolled": true
   },
   "outputs": [
    {
     "data": {
      "text/html": [
       "<div>\n",
       "<style scoped>\n",
       "    .dataframe tbody tr th:only-of-type {\n",
       "        vertical-align: middle;\n",
       "    }\n",
       "\n",
       "    .dataframe tbody tr th {\n",
       "        vertical-align: top;\n",
       "    }\n",
       "\n",
       "    .dataframe thead th {\n",
       "        text-align: right;\n",
       "    }\n",
       "</style>\n",
       "<table border=\"1\" class=\"dataframe\">\n",
       "  <thead>\n",
       "    <tr style=\"text-align: right;\">\n",
       "      <th></th>\n",
       "      <th>Organization</th>\n",
       "      <th>Point of Care</th>\n",
       "      <th>Source System</th>\n",
       "      <th>Accession Number</th>\n",
       "      <th>Modality</th>\n",
       "      <th>Exam Code</th>\n",
       "      <th>Exam Description</th>\n",
       "      <th>CPT Code</th>\n",
       "      <th>Report Text</th>\n",
       "      <th>Is Stat</th>\n",
       "      <th>Patient Status</th>\n",
       "      <th>Patient Sex</th>\n",
       "      <th>Patient Age</th>\n",
       "    </tr>\n",
       "  </thead>\n",
       "  <tbody>\n",
       "    <tr>\n",
       "      <th>0</th>\n",
       "      <td>MBXR1</td>\n",
       "      <td>RAD X-RAY MB</td>\n",
       "      <td>EPIC</td>\n",
       "      <td>10022207761</td>\n",
       "      <td>XR</td>\n",
       "      <td>DCHE2</td>\n",
       "      <td>XR CHEST 2 VIEWS PA AND LATERAL</td>\n",
       "      <td>71020</td>\n",
       "      <td>XR CHEST 2 VIEWS PA AND LATERAL   6/30/2022 11...</td>\n",
       "      <td>False</td>\n",
       "      <td>Emergency</td>\n",
       "      <td>Male</td>\n",
       "      <td>39.00</td>\n",
       "    </tr>\n",
       "    <tr>\n",
       "      <th>1</th>\n",
       "      <td>PDR11</td>\n",
       "      <td>RAD X-RAY PARN</td>\n",
       "      <td>EPIC</td>\n",
       "      <td>10022207760</td>\n",
       "      <td>XR</td>\n",
       "      <td>DCHE1</td>\n",
       "      <td>XR CHEST 1 VIEW AP</td>\n",
       "      <td>71010</td>\n",
       "      <td>XR CHEST 1 VIEW AP   6/30/2022 11:53 PM\\nHISTO...</td>\n",
       "      <td>False</td>\n",
       "      <td>Emergency</td>\n",
       "      <td>Male</td>\n",
       "      <td>41.00</td>\n",
       "    </tr>\n",
       "    <tr>\n",
       "      <th>2</th>\n",
       "      <td>PDR9</td>\n",
       "      <td>RAD X-RAY PARN</td>\n",
       "      <td>EPIC</td>\n",
       "      <td>10022207745</td>\n",
       "      <td>XR</td>\n",
       "      <td>DCHE1</td>\n",
       "      <td>XR CHEST 1 VIEW AP</td>\n",
       "      <td>71010</td>\n",
       "      <td>XR CHEST 1 VIEW AP   6/30/2022 11:36 PM\\nHISTO...</td>\n",
       "      <td>False</td>\n",
       "      <td>Inpatient</td>\n",
       "      <td>Female</td>\n",
       "      <td>25.00</td>\n",
       "    </tr>\n",
       "    <tr>\n",
       "      <th>3</th>\n",
       "      <td>PDR9</td>\n",
       "      <td>RAD X-RAY PARN</td>\n",
       "      <td>EPIC</td>\n",
       "      <td>10022207747</td>\n",
       "      <td>XR</td>\n",
       "      <td>DCHE1</td>\n",
       "      <td>XR CHEST 1 VIEW AP</td>\n",
       "      <td>71010</td>\n",
       "      <td>XR CHEST 1 VIEW AP   6/30/2022 11:26 PM\\nHISTO...</td>\n",
       "      <td>False</td>\n",
       "      <td>Inpatient</td>\n",
       "      <td>Female</td>\n",
       "      <td>60.00</td>\n",
       "    </tr>\n",
       "    <tr>\n",
       "      <th>4</th>\n",
       "      <td>MBP9</td>\n",
       "      <td>RAD X-RAY MB</td>\n",
       "      <td>EPIC</td>\n",
       "      <td>10022207748</td>\n",
       "      <td>XR</td>\n",
       "      <td>DCHE1</td>\n",
       "      <td>XR CHEST 1 VIEW AP</td>\n",
       "      <td>71010</td>\n",
       "      <td>XR CHEST 1 VIEW AP   6/30/2022 11:21 PM\\nINDIC...</td>\n",
       "      <td>False</td>\n",
       "      <td>Inpatient</td>\n",
       "      <td>Female</td>\n",
       "      <td>0.27</td>\n",
       "    </tr>\n",
       "  </tbody>\n",
       "</table>\n",
       "</div>"
      ],
      "text/plain": [
       "  Organization   Point of Care Source System  Accession Number Modality  \\\n",
       "0        MBXR1    RAD X-RAY MB          EPIC       10022207761       XR   \n",
       "1        PDR11  RAD X-RAY PARN          EPIC       10022207760       XR   \n",
       "2         PDR9  RAD X-RAY PARN          EPIC       10022207745       XR   \n",
       "3         PDR9  RAD X-RAY PARN          EPIC       10022207747       XR   \n",
       "4         MBP9    RAD X-RAY MB          EPIC       10022207748       XR   \n",
       "\n",
       "  Exam Code                 Exam Description  CPT Code  \\\n",
       "0     DCHE2  XR CHEST 2 VIEWS PA AND LATERAL     71020   \n",
       "1     DCHE1               XR CHEST 1 VIEW AP     71010   \n",
       "2     DCHE1               XR CHEST 1 VIEW AP     71010   \n",
       "3     DCHE1               XR CHEST 1 VIEW AP     71010   \n",
       "4     DCHE1               XR CHEST 1 VIEW AP     71010   \n",
       "\n",
       "                                         Report Text  Is Stat Patient Status  \\\n",
       "0  XR CHEST 2 VIEWS PA AND LATERAL   6/30/2022 11...    False      Emergency   \n",
       "1  XR CHEST 1 VIEW AP   6/30/2022 11:53 PM\\nHISTO...    False      Emergency   \n",
       "2  XR CHEST 1 VIEW AP   6/30/2022 11:36 PM\\nHISTO...    False      Inpatient   \n",
       "3  XR CHEST 1 VIEW AP   6/30/2022 11:26 PM\\nHISTO...    False      Inpatient   \n",
       "4  XR CHEST 1 VIEW AP   6/30/2022 11:21 PM\\nINDIC...    False      Inpatient   \n",
       "\n",
       "  Patient Sex  Patient Age  \n",
       "0        Male        39.00  \n",
       "1        Male        41.00  \n",
       "2      Female        25.00  \n",
       "3      Female        60.00  \n",
       "4      Female         0.27  "
      ]
     },
     "execution_count": 13,
     "metadata": {},
     "output_type": "execute_result"
    }
   ],
   "source": [
    "# Read report data\n",
    "data = pd.read_csv('/mnt/sohn2022/UCSF_secure_cxr_data/Secure_UCSF_CXR_01012022_to_02132023.csv',index_col=0)\n",
    "#data = pd.read_csv('/run/user/1000/gvfs/smb-share:server=sohn2022.local,share=sohn2022/UCSF_secure_cxr_data/Secure_UCSF_CXR_01012022_to_02132023.csv',index_col=0)\n",
    "data = data.iloc[:,:13]\n",
    "data.head()"
   ]
  },
  {
   "cell_type": "code",
   "execution_count": 17,
   "id": "6523ac24",
   "metadata": {},
   "outputs": [
    {
     "name": "stdout",
     "output_type": "stream",
     "text": [
      "1.40% of the radiology report need further communication.\n"
     ]
    },
    {
     "name": "stderr",
     "output_type": "stream",
     "text": [
      "/tmp/ipykernel_136435/1050526242.py:3: SettingWithCopyWarning: \n",
      "A value is trying to be set on a copy of a slice from a DataFrame.\n",
      "Try using .loc[row_indexer,col_indexer] = value instead\n",
      "\n",
      "See the caveats in the documentation: https://pandas.pydata.org/pandas-docs/stable/user_guide/indexing.html#returning-a-view-versus-a-copy\n",
      "  comm['comm'] = 1\n"
     ]
    }
   ],
   "source": [
    "# Reports that need further communication\n",
    "comm = data[data['Report Text'].str.contains('communicated with|discussed with|communicated by|discussed by')]\n",
    "comm['comm'] = 1\n",
    "\n",
    "print(\"{:.2%}\".format(comm.shape[0]/data.shape[0]), 'of the radiology report need further communication.')"
   ]
  },
  {
   "cell_type": "code",
   "execution_count": 18,
   "id": "75b807bc",
   "metadata": {},
   "outputs": [
    {
     "data": {
      "text/html": [
       "<div>\n",
       "<style scoped>\n",
       "    .dataframe tbody tr th:only-of-type {\n",
       "        vertical-align: middle;\n",
       "    }\n",
       "\n",
       "    .dataframe tbody tr th {\n",
       "        vertical-align: top;\n",
       "    }\n",
       "\n",
       "    .dataframe thead th {\n",
       "        text-align: right;\n",
       "    }\n",
       "</style>\n",
       "<table border=\"1\" class=\"dataframe\">\n",
       "  <thead>\n",
       "    <tr style=\"text-align: right;\">\n",
       "      <th></th>\n",
       "      <th>Organization</th>\n",
       "      <th>Point of Care</th>\n",
       "      <th>Source System</th>\n",
       "      <th>Accession Number</th>\n",
       "      <th>Modality</th>\n",
       "      <th>Exam Code</th>\n",
       "      <th>Exam Description</th>\n",
       "      <th>CPT Code</th>\n",
       "      <th>Report Text</th>\n",
       "      <th>Is Stat</th>\n",
       "      <th>Patient Status</th>\n",
       "      <th>Patient Sex</th>\n",
       "      <th>Patient Age</th>\n",
       "      <th>comm</th>\n",
       "    </tr>\n",
       "  </thead>\n",
       "  <tbody>\n",
       "    <tr>\n",
       "      <th>8738</th>\n",
       "      <td>E01</td>\n",
       "      <td>RAD X-RAY PARN</td>\n",
       "      <td>EPIC</td>\n",
       "      <td>10021863277</td>\n",
       "      <td>XR</td>\n",
       "      <td>DCHE2</td>\n",
       "      <td>XR CHEST 2 VIEWS PA AND LATERAL</td>\n",
       "      <td>71020</td>\n",
       "      <td>INDICATION:\\nXR CHEST 2 VIEWS PA AND LATERAL  ...</td>\n",
       "      <td>False</td>\n",
       "      <td>Emergency</td>\n",
       "      <td>Male</td>\n",
       "      <td>95.0</td>\n",
       "      <td>0</td>\n",
       "    </tr>\n",
       "    <tr>\n",
       "      <th>8204</th>\n",
       "      <td>PDR11</td>\n",
       "      <td>RAD X-RAY PARN</td>\n",
       "      <td>EPIC</td>\n",
       "      <td>10021870146</td>\n",
       "      <td>XR</td>\n",
       "      <td>DCHE1</td>\n",
       "      <td>XR CHEST 1 VIEW AP</td>\n",
       "      <td>71010</td>\n",
       "      <td>INDICATION:\\nXR CHEST 1 VIEW AP   2/25/2022 6:...</td>\n",
       "      <td>False</td>\n",
       "      <td>Emergency</td>\n",
       "      <td>Female</td>\n",
       "      <td>86.0</td>\n",
       "      <td>0</td>\n",
       "    </tr>\n",
       "    <tr>\n",
       "      <th>8633</th>\n",
       "      <td>PDR12</td>\n",
       "      <td>RAD X-RAY PARN</td>\n",
       "      <td>EPIC</td>\n",
       "      <td>10022659421</td>\n",
       "      <td>XR</td>\n",
       "      <td>DCHE1</td>\n",
       "      <td>XR CHEST 1 VIEW AP</td>\n",
       "      <td>71010</td>\n",
       "      <td>XR CHEST 1 VIEW AP   11/28/2022 6:43 PM\\nHISTO...</td>\n",
       "      <td>False</td>\n",
       "      <td>Inpatient</td>\n",
       "      <td>Male</td>\n",
       "      <td>54.0</td>\n",
       "      <td>0</td>\n",
       "    </tr>\n",
       "    <tr>\n",
       "      <th>20606</th>\n",
       "      <td>PDR11</td>\n",
       "      <td>RAD X-RAY PARN</td>\n",
       "      <td>EPIC</td>\n",
       "      <td>10021985819</td>\n",
       "      <td>XR</td>\n",
       "      <td>DCHE1</td>\n",
       "      <td>XR CHEST 1 VIEW AP</td>\n",
       "      <td>71010</td>\n",
       "      <td>XR CHEST 1 VIEW AP   4/8/2022 6:40 AM\\nHISTORY...</td>\n",
       "      <td>False</td>\n",
       "      <td>Inpatient</td>\n",
       "      <td>Female</td>\n",
       "      <td>53.0</td>\n",
       "      <td>0</td>\n",
       "    </tr>\n",
       "    <tr>\n",
       "      <th>20983</th>\n",
       "      <td>MBXR1</td>\n",
       "      <td>RAD X-RAY MB</td>\n",
       "      <td>EPIC</td>\n",
       "      <td>10021728566</td>\n",
       "      <td>XR</td>\n",
       "      <td>DCHE2</td>\n",
       "      <td>XR CHEST 2 VIEWS PA AND LATERAL</td>\n",
       "      <td>71020</td>\n",
       "      <td>INDICATION:\\nXR CHEST 2 VIEWS PA AND LATERAL  ...</td>\n",
       "      <td>False</td>\n",
       "      <td>Outpatient</td>\n",
       "      <td>Male</td>\n",
       "      <td>41.0</td>\n",
       "      <td>0</td>\n",
       "    </tr>\n",
       "  </tbody>\n",
       "</table>\n",
       "</div>"
      ],
      "text/plain": [
       "      Organization   Point of Care Source System  Accession Number Modality  \\\n",
       "8738           E01  RAD X-RAY PARN          EPIC       10021863277       XR   \n",
       "8204         PDR11  RAD X-RAY PARN          EPIC       10021870146       XR   \n",
       "8633         PDR12  RAD X-RAY PARN          EPIC       10022659421       XR   \n",
       "20606        PDR11  RAD X-RAY PARN          EPIC       10021985819       XR   \n",
       "20983        MBXR1    RAD X-RAY MB          EPIC       10021728566       XR   \n",
       "\n",
       "      Exam Code                 Exam Description  CPT Code  \\\n",
       "8738      DCHE2  XR CHEST 2 VIEWS PA AND LATERAL     71020   \n",
       "8204      DCHE1               XR CHEST 1 VIEW AP     71010   \n",
       "8633      DCHE1               XR CHEST 1 VIEW AP     71010   \n",
       "20606     DCHE1               XR CHEST 1 VIEW AP     71010   \n",
       "20983     DCHE2  XR CHEST 2 VIEWS PA AND LATERAL     71020   \n",
       "\n",
       "                                             Report Text  Is Stat  \\\n",
       "8738   INDICATION:\\nXR CHEST 2 VIEWS PA AND LATERAL  ...    False   \n",
       "8204   INDICATION:\\nXR CHEST 1 VIEW AP   2/25/2022 6:...    False   \n",
       "8633   XR CHEST 1 VIEW AP   11/28/2022 6:43 PM\\nHISTO...    False   \n",
       "20606  XR CHEST 1 VIEW AP   4/8/2022 6:40 AM\\nHISTORY...    False   \n",
       "20983  INDICATION:\\nXR CHEST 2 VIEWS PA AND LATERAL  ...    False   \n",
       "\n",
       "      Patient Status Patient Sex  Patient Age  comm  \n",
       "8738       Emergency        Male         95.0     0  \n",
       "8204       Emergency      Female         86.0     0  \n",
       "8633       Inpatient        Male         54.0     0  \n",
       "20606      Inpatient      Female         53.0     0  \n",
       "20983     Outpatient        Male         41.0     0  "
      ]
     },
     "execution_count": 18,
     "metadata": {},
     "output_type": "execute_result"
    }
   ],
   "source": [
    "# combined\n",
    "sample = data.drop(list(comm.index)).sample(2000)\n",
    "sample['comm'] = 0\n",
    "data = pd.concat([sample,comm])\n",
    "data.head()"
   ]
  },
  {
   "cell_type": "markdown",
   "id": "76923c0c",
   "metadata": {},
   "source": [
    "## Preprocess"
   ]
  },
  {
   "cell_type": "code",
   "execution_count": 4,
   "id": "21a4635e",
   "metadata": {},
   "outputs": [],
   "source": [
    "# code modified from Adrian\n",
    "def preprocess_findings(report_text):     \n",
    "    findings_impression = re.search(r\"((?<=\\nFINDINGS\\/IMPRESSION:|FINDINGS\\/IMPRESSION:\\n)(.|\\n)*)\", report_text)\n",
    "    if findings_impression:\n",
    "        findings_impression = findings_impression.group(0).split('\"')[0]\n",
    "        findings_impression = re.sub(r\"(?=(Impression discussed|Findings discussed|Impression communicated|Findings communicated|Further impression|Final impression|Attestation|Radiologist|Electronically|This change was|Report dictated))(.|\\n)*\", \"\", findings_impression)\n",
    "        match = re.search(r\"^(.*?\\.)+(?=.*?\\b(communicated by|discussed by|communicated with|discussed with)\\b)\", findings_impression, re.DOTALL)\n",
    "        if match:\n",
    "            findings_impression = match.group(0)\n",
    "        return findings_impression.strip()\n",
    "    return 'None'"
   ]
  },
  {
   "cell_type": "code",
   "execution_count": 5,
   "id": "890ca7a9",
   "metadata": {},
   "outputs": [],
   "source": [
    "# code from Adrian\n",
    "def preprocess_dcm_path(i):   \n",
    "    row = data.iloc[i]\n",
    "    report_text = row['Report Text']\n",
    "\n",
    "    accession_number = str(row['Accession Number'])\n",
    "    patient_folder = f\"{data_folder}/raw/{accession_number}\" \n",
    "    \n",
    "    patient_folder_files = os.listdir(patient_folder)\n",
    "\n",
    "    for j in range(len(patient_folder_files)):\n",
    "        study = patient_folder_files[j]\n",
    "        if not os.path.isdir(f\"{patient_folder}/{study}\"):\n",
    "            return 'None'\n",
    "        image_files = os.listdir(f\"{patient_folder}/{study}\")\n",
    "        ds = dcm.dcmread(f\"{patient_folder}/{study}/{image_files[0]}\")\n",
    "\n",
    "        if 'Image Storage' in ds.SOPClassUID.name and 'ViewPosition' in ds and ds.ViewPosition != 'LL': \n",
    "            return f\"{patient_folder}/{study}/{image_files[0]}\"\n",
    "    return 'None'"
   ]
  },
  {
   "cell_type": "code",
   "execution_count": 7,
   "id": "61b1d3ce",
   "metadata": {
    "scrolled": true
   },
   "outputs": [
    {
     "name": "stdout",
     "output_type": "stream",
     "text": [
      "Caption Preprocessing\n",
      "===============\n"
     ]
    },
    {
     "name": "stderr",
     "output_type": "stream",
     "text": [
      "100%|█████████████████████████████████████| 3360/3360 [00:00<00:00, 7272.77it/s]\n"
     ]
    },
    {
     "name": "stdout",
     "output_type": "stream",
     "text": [
      "DCM Path Preprocessing\n",
      "===============\n"
     ]
    },
    {
     "name": "stderr",
     "output_type": "stream",
     "text": [
      "100%|███████████████████████████████████████| 3024/3024 [06:05<00:00,  8.27it/s]\n"
     ]
    }
   ],
   "source": [
    "data_folder = '/mnt/sohn2022/UCSF_secure_cxr_data'\n",
    "#data_folder = '/run/user/1000/gvfs/smb-share:server=sohn2022.local,share=sohn2022/UCSF_secure_cxr_data'\n",
    "\n",
    "data['Downloaded'] = data['Accession Number'].apply(str).isin(os.listdir(data_folder + '/raw'))\n",
    "data = data[data['Downloaded']]\n",
    "#data = data.drop(['Unnamed: 0'], axis=1)\n",
    "\n",
    "print('Caption Preprocessing\\n===============')\n",
    "captions = []\n",
    "for i in tqdm.tqdm(range(len(data))):\n",
    "    captions.append(preprocess_findings(data['Report Text'].iloc[i]))\n",
    "data['Caption'] = captions\n",
    "\n",
    "data = data[data['Caption'].apply(len) < 400].reset_index(drop=True)\n",
    "\n",
    "print('DCM Path Preprocessing\\n===============')\n",
    "dcm_paths = []\n",
    "for i in tqdm.tqdm(range(len(data))):\n",
    "    dcm_paths.append(preprocess_dcm_path(i))\n",
    "data['DCM Path'] = dcm_paths\n",
    "data = data[data['Caption'] != 'None']\n",
    "data = data[data['DCM Path'] != 'None']\n",
    "\n",
    "data = data.reset_index(drop=True)"
   ]
  },
  {
   "cell_type": "code",
   "execution_count": 8,
   "id": "eeeaae91",
   "metadata": {},
   "outputs": [],
   "source": [
    "data.to_csv('data/data_processed.csv', index=False)"
   ]
  },
  {
   "cell_type": "markdown",
   "id": "119e737e",
   "metadata": {},
   "source": [
    "## Train Test Split"
   ]
  },
  {
   "cell_type": "code",
   "execution_count": 9,
   "id": "de4fa09d",
   "metadata": {},
   "outputs": [],
   "source": [
    "train_val_dataset, test_dataset = train_test_split(data,test_size=0.2,train_size=0.8)\n",
    "train_dataset, val_dataset = train_test_split(train_val_dataset,test_size=0.25,train_size=0.75)"
   ]
  },
  {
   "cell_type": "code",
   "execution_count": 10,
   "id": "f457bd2d",
   "metadata": {},
   "outputs": [],
   "source": [
    "train_val_dataset = train_val_dataset.reset_index(drop=True)\n",
    "train_dataset = train_dataset.reset_index(drop=True)\n",
    "val_dataset = val_dataset.reset_index(drop=True)\n",
    "test_dataset = test_dataset.reset_index(drop=True)"
   ]
  },
  {
   "cell_type": "code",
   "execution_count": 11,
   "id": "fcf83a3c",
   "metadata": {},
   "outputs": [],
   "source": [
    "train_val_dataset.to_csv('data/train_val_dataset.csv',index=False)\n",
    "train_dataset.to_csv('data/train_dataset.csv',index=False)\n",
    "val_dataset.to_csv('data/val_dataset.csv',index=False)\n",
    "test_dataset.to_csv('data/test_dataset.csv',index=False)"
   ]
  },
  {
   "cell_type": "code",
   "execution_count": null,
   "id": "753db0e3",
   "metadata": {},
   "outputs": [],
   "source": []
  }
 ],
 "metadata": {
  "kernelspec": {
   "display_name": "Python 3 (ipykernel)",
   "language": "python",
   "name": "python3"
  },
  "language_info": {
   "codemirror_mode": {
    "name": "ipython",
    "version": 3
   },
   "file_extension": ".py",
   "mimetype": "text/x-python",
   "name": "python",
   "nbconvert_exporter": "python",
   "pygments_lexer": "ipython3",
   "version": "3.9.16"
  }
 },
 "nbformat": 4,
 "nbformat_minor": 5
}
