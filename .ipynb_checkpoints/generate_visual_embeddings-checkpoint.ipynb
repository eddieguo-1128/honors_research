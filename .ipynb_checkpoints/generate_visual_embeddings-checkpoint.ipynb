{
 "cells": [
  {
   "cell_type": "code",
   "execution_count": 1,
   "metadata": {
    "colab": {
     "base_uri": "https://localhost:8080/",
     "height": 35
    },
    "id": "MgrZ-bUsaQjq",
    "outputId": "4e3f4d85-53f5-4b84-88b3-11c22c4cb1b9"
   },
   "outputs": [
    {
     "data": {
      "text/plain": [
       "'2.0.0+cu117'"
      ]
     },
     "execution_count": 1,
     "metadata": {},
     "output_type": "execute_result"
    }
   ],
   "source": [
    "import torch\n",
    "torch.__version__"
   ]
  },
  {
   "cell_type": "code",
   "execution_count": 2,
   "metadata": {
    "colab": {
     "base_uri": "https://localhost:8080/"
    },
    "id": "Oo_j1ItGab89",
    "outputId": "7c6c932f-09c6-4611-cb93-63074468dc77"
   },
   "outputs": [
    {
     "data": {
      "text/plain": [
       "True"
      ]
     },
     "execution_count": 2,
     "metadata": {},
     "output_type": "execute_result"
    }
   ],
   "source": [
    "torch.cuda.is_available()"
   ]
  },
  {
   "cell_type": "code",
   "execution_count": 3,
   "metadata": {
    "colab": {
     "base_uri": "https://localhost:8080/"
    },
    "id": "OTLs1H-Kpkkx",
    "outputId": "7922092b-73c3-443b-ff68-b3e7df48dbdd"
   },
   "outputs": [
    {
     "data": {
      "text/plain": [
       "device(type='cuda', index=0)"
      ]
     },
     "execution_count": 3,
     "metadata": {},
     "output_type": "execute_result"
    }
   ],
   "source": [
    "device = torch.device(\"cuda:0\" if torch.cuda.is_available() else \"cpu\")\n",
    "device"
   ]
  },
  {
   "cell_type": "code",
   "execution_count": 5,
   "metadata": {
    "id": "7SC5tmz7aeAw"
   },
   "outputs": [],
   "source": [
    "%%capture\n",
    "!pip install pyyaml==5.1\n",
    "#!python -m pip install 'git+https://github.com/facebookresearch/detectron2.git'\n",
    "!python -m pip install 'git+https://github.com/facebookresearch/detectron2.git@v0.5'"
   ]
  },
  {
   "cell_type": "code",
   "execution_count": 6,
   "metadata": {
    "id": "1XLnFuBuagrv"
   },
   "outputs": [],
   "source": [
    "import pandas as pd\n",
    "import numpy as np\n",
    "\n",
    "import torch, torchvision\n",
    "import matplotlib.pyplot as plt\n",
    "import json\n",
    "import cv2\n",
    "import numpy as np\n",
    "from copy import deepcopy"
   ]
  },
  {
   "cell_type": "code",
   "execution_count": 7,
   "metadata": {
    "id": "yNfGZm_xaip-"
   },
   "outputs": [],
   "source": [
    "from detectron2.modeling import build_model\n",
    "from detectron2.checkpoint import DetectionCheckpointer\n",
    "from detectron2.structures.image_list import ImageList\n",
    "from detectron2.data import transforms as T\n",
    "from detectron2.modeling.box_regression import Box2BoxTransform\n",
    "from detectron2.modeling.roi_heads.fast_rcnn import FastRCNNOutputs\n",
    "from detectron2.structures.boxes import Boxes\n",
    "from detectron2.layers import nms\n",
    "from detectron2 import model_zoo\n",
    "from detectron2.config import get_cfg"
   ]
  },
  {
   "cell_type": "code",
   "execution_count": 8,
   "metadata": {
    "colab": {
     "base_uri": "https://localhost:8080/",
     "height": 641
    },
    "id": "q18vpT9Td1Og",
    "outputId": "1ee520b8-f1ee-4d53-d35c-dde3401ee44f"
   },
   "outputs": [
    {
     "data": {
      "text/html": [
       "<div>\n",
       "<style scoped>\n",
       "    .dataframe tbody tr th:only-of-type {\n",
       "        vertical-align: middle;\n",
       "    }\n",
       "\n",
       "    .dataframe tbody tr th {\n",
       "        vertical-align: top;\n",
       "    }\n",
       "\n",
       "    .dataframe thead th {\n",
       "        text-align: right;\n",
       "    }\n",
       "</style>\n",
       "<table border=\"1\" class=\"dataframe\">\n",
       "  <thead>\n",
       "    <tr style=\"text-align: right;\">\n",
       "      <th></th>\n",
       "      <th>Point of Care</th>\n",
       "      <th>Source System</th>\n",
       "      <th>Accession Number</th>\n",
       "      <th>Modality</th>\n",
       "      <th>Exam Code</th>\n",
       "      <th>Exam Description</th>\n",
       "      <th>CPT Code</th>\n",
       "      <th>Report Text</th>\n",
       "      <th>Is Stat</th>\n",
       "      <th>Patient Status</th>\n",
       "      <th>Patient Sex</th>\n",
       "      <th>Patient Age</th>\n",
       "      <th>comm</th>\n",
       "      <th>Downloaded</th>\n",
       "      <th>Caption</th>\n",
       "      <th>DCM Path</th>\n",
       "    </tr>\n",
       "    <tr>\n",
       "      <th>Organization</th>\n",
       "      <th></th>\n",
       "      <th></th>\n",
       "      <th></th>\n",
       "      <th></th>\n",
       "      <th></th>\n",
       "      <th></th>\n",
       "      <th></th>\n",
       "      <th></th>\n",
       "      <th></th>\n",
       "      <th></th>\n",
       "      <th></th>\n",
       "      <th></th>\n",
       "      <th></th>\n",
       "      <th></th>\n",
       "      <th></th>\n",
       "      <th></th>\n",
       "    </tr>\n",
       "  </thead>\n",
       "  <tbody>\n",
       "    <tr>\n",
       "      <th>BOPCXR01</th>\n",
       "      <td>RAD X-RAY BOPC</td>\n",
       "      <td>EPIC</td>\n",
       "      <td>10022368934</td>\n",
       "      <td>XR</td>\n",
       "      <td>DCHE2</td>\n",
       "      <td>XR CHEST 2 VIEWS PA AND LATERAL</td>\n",
       "      <td>71020</td>\n",
       "      <td>XR CHEST 2 VIEWS PA AND LATERAL   8/26/2022 4:...</td>\n",
       "      <td>False</td>\n",
       "      <td>Outpatient</td>\n",
       "      <td>Male</td>\n",
       "      <td>67.0</td>\n",
       "      <td>0</td>\n",
       "      <td>True</td>\n",
       "      <td>Clear lungs. No findings suggest active tuberc...</td>\n",
       "      <td>/mnt/sohn2022/UCSF_secure_cxr_data/raw/1002236...</td>\n",
       "    </tr>\n",
       "    <tr>\n",
       "      <th>M02</th>\n",
       "      <td>RAD X-RAY PARN</td>\n",
       "      <td>EPIC</td>\n",
       "      <td>10022836851</td>\n",
       "      <td>XR</td>\n",
       "      <td>DCHE2</td>\n",
       "      <td>XR CHEST 2 VIEWS PA AND LATERAL</td>\n",
       "      <td>71020</td>\n",
       "      <td>XR CHEST 2 VIEWS PA AND LATERAL   1/25/2023 7:...</td>\n",
       "      <td>False</td>\n",
       "      <td>Inpatient</td>\n",
       "      <td>Female</td>\n",
       "      <td>52.0</td>\n",
       "      <td>0</td>\n",
       "      <td>True</td>\n",
       "      <td>Moderate amount of pneumoperitoneum and subcut...</td>\n",
       "      <td>/mnt/sohn2022/UCSF_secure_cxr_data/raw/1002283...</td>\n",
       "    </tr>\n",
       "    <tr>\n",
       "      <th>PDR9</th>\n",
       "      <td>RAD X-RAY PARN</td>\n",
       "      <td>EPIC</td>\n",
       "      <td>10022293363</td>\n",
       "      <td>XR</td>\n",
       "      <td>DCHE1</td>\n",
       "      <td>XR CHEST 1 VIEW AP</td>\n",
       "      <td>71010</td>\n",
       "      <td>XR CHEST 1 VIEW AP   8/3/2022 5:33 AM\\nHISTORY...</td>\n",
       "      <td>False</td>\n",
       "      <td>Inpatient</td>\n",
       "      <td>Female</td>\n",
       "      <td>77.0</td>\n",
       "      <td>0</td>\n",
       "      <td>True</td>\n",
       "      <td>Increased bilateral basilar predominant hazy o...</td>\n",
       "      <td>/mnt/sohn2022/UCSF_secure_cxr_data/raw/1002229...</td>\n",
       "    </tr>\n",
       "    <tr>\n",
       "      <th>MBP6</th>\n",
       "      <td>RAD X-RAY MB</td>\n",
       "      <td>EPIC</td>\n",
       "      <td>10022775726</td>\n",
       "      <td>XR</td>\n",
       "      <td>DCHE1</td>\n",
       "      <td>XR CHEST 1 VIEW AP</td>\n",
       "      <td>71010</td>\n",
       "      <td>XR CHEST 1 VIEW AP   1/6/2023 7:32 PM\\nHISTORY...</td>\n",
       "      <td>False</td>\n",
       "      <td>Outpatient</td>\n",
       "      <td>Female</td>\n",
       "      <td>58.0</td>\n",
       "      <td>0</td>\n",
       "      <td>True</td>\n",
       "      <td>Low lung volumes with mild patchy bibasilar op...</td>\n",
       "      <td>/mnt/sohn2022/UCSF_secure_cxr_data/raw/1002277...</td>\n",
       "    </tr>\n",
       "    <tr>\n",
       "      <th>PDR11</th>\n",
       "      <td>RAD X-RAY PARN</td>\n",
       "      <td>EPIC</td>\n",
       "      <td>10021748253</td>\n",
       "      <td>XR</td>\n",
       "      <td>DCHE1</td>\n",
       "      <td>XR CHEST 1 VIEW AP</td>\n",
       "      <td>71010</td>\n",
       "      <td>INDICATION:\\nXR CHEST 1 VIEW AP   1/11/2022 3:...</td>\n",
       "      <td>False</td>\n",
       "      <td>Emergency</td>\n",
       "      <td>Female</td>\n",
       "      <td>52.0</td>\n",
       "      <td>0</td>\n",
       "      <td>True</td>\n",
       "      <td>Subclavian stents on the right.\\nLungs clear. ...</td>\n",
       "      <td>/mnt/sohn2022/UCSF_secure_cxr_data/raw/1002174...</td>\n",
       "    </tr>\n",
       "    <tr>\n",
       "      <th>...</th>\n",
       "      <td>...</td>\n",
       "      <td>...</td>\n",
       "      <td>...</td>\n",
       "      <td>...</td>\n",
       "      <td>...</td>\n",
       "      <td>...</td>\n",
       "      <td>...</td>\n",
       "      <td>...</td>\n",
       "      <td>...</td>\n",
       "      <td>...</td>\n",
       "      <td>...</td>\n",
       "      <td>...</td>\n",
       "      <td>...</td>\n",
       "      <td>...</td>\n",
       "      <td>...</td>\n",
       "      <td>...</td>\n",
       "    </tr>\n",
       "    <tr>\n",
       "      <th>MBP7</th>\n",
       "      <td>RAD X-RAY MB</td>\n",
       "      <td>EPIC</td>\n",
       "      <td>10021725069</td>\n",
       "      <td>XR</td>\n",
       "      <td>DCHE1</td>\n",
       "      <td>XR CHEST 1 VIEW AP</td>\n",
       "      <td>71010</td>\n",
       "      <td>INDICATION:\\nXR CHEST 1 VIEW AP   1/3/2022 10:...</td>\n",
       "      <td>False</td>\n",
       "      <td>Inpatient</td>\n",
       "      <td>Female</td>\n",
       "      <td>37.0</td>\n",
       "      <td>1</td>\n",
       "      <td>True</td>\n",
       "      <td>Interval right extremity PICC placement with t...</td>\n",
       "      <td>/mnt/sohn2022/UCSF_secure_cxr_data/raw/1002172...</td>\n",
       "    </tr>\n",
       "    <tr>\n",
       "      <th>PDR2</th>\n",
       "      <td>RAD X-RAY PARN</td>\n",
       "      <td>EPIC</td>\n",
       "      <td>10021724091</td>\n",
       "      <td>XR</td>\n",
       "      <td>DCHE1</td>\n",
       "      <td>XR CHEST 1 VIEW AP</td>\n",
       "      <td>71010</td>\n",
       "      <td>INDICATION:\\nXR CHEST 1 VIEW AP   1/2/2022 5:0...</td>\n",
       "      <td>False</td>\n",
       "      <td>Inpatient</td>\n",
       "      <td>Male</td>\n",
       "      <td>51.0</td>\n",
       "      <td>1</td>\n",
       "      <td>True</td>\n",
       "      <td>New large right pneumothorax with associated c...</td>\n",
       "      <td>/mnt/sohn2022/UCSF_secure_cxr_data/raw/1002172...</td>\n",
       "    </tr>\n",
       "    <tr>\n",
       "      <th>PDR11</th>\n",
       "      <td>RAD X-RAY PARN</td>\n",
       "      <td>EPIC</td>\n",
       "      <td>10021723765</td>\n",
       "      <td>XR</td>\n",
       "      <td>DCHE1</td>\n",
       "      <td>XR CHEST 1 VIEW AP</td>\n",
       "      <td>71010</td>\n",
       "      <td>INDICATION:\\nXR CHEST 1 VIEW AP   1/2/2022 7:5...</td>\n",
       "      <td>False</td>\n",
       "      <td>Inpatient</td>\n",
       "      <td>Male</td>\n",
       "      <td>74.0</td>\n",
       "      <td>1</td>\n",
       "      <td>True</td>\n",
       "      <td>Interval removal of enteric tube and right int...</td>\n",
       "      <td>/mnt/sohn2022/UCSF_secure_cxr_data/raw/1002172...</td>\n",
       "    </tr>\n",
       "    <tr>\n",
       "      <th>PDR12</th>\n",
       "      <td>RAD X-RAY PARN</td>\n",
       "      <td>EPIC</td>\n",
       "      <td>10021723415</td>\n",
       "      <td>XR</td>\n",
       "      <td>DCHE1</td>\n",
       "      <td>XR CHEST 1 VIEW AP</td>\n",
       "      <td>71010</td>\n",
       "      <td>INDICATION:\\nXR CHEST 1 VIEW AP   1/1/2022 4:1...</td>\n",
       "      <td>False</td>\n",
       "      <td>Inpatient</td>\n",
       "      <td>Male</td>\n",
       "      <td>69.0</td>\n",
       "      <td>1</td>\n",
       "      <td>True</td>\n",
       "      <td>Significantly increased size of the now large ...</td>\n",
       "      <td>/mnt/sohn2022/UCSF_secure_cxr_data/raw/1002172...</td>\n",
       "    </tr>\n",
       "    <tr>\n",
       "      <th>PDR11</th>\n",
       "      <td>RAD X-RAY PARN</td>\n",
       "      <td>EPIC</td>\n",
       "      <td>10021723164</td>\n",
       "      <td>XR</td>\n",
       "      <td>DCHE1</td>\n",
       "      <td>XR CHEST 1 VIEW AP</td>\n",
       "      <td>71010</td>\n",
       "      <td>INDICATION:\\nXR CHEST 1 VIEW AP   1/1/2022 6:2...</td>\n",
       "      <td>False</td>\n",
       "      <td>Inpatient</td>\n",
       "      <td>Male</td>\n",
       "      <td>51.0</td>\n",
       "      <td>1</td>\n",
       "      <td>True</td>\n",
       "      <td>Endotracheal tube slightly advanced now again ...</td>\n",
       "      <td>/mnt/sohn2022/UCSF_secure_cxr_data/raw/1002172...</td>\n",
       "    </tr>\n",
       "  </tbody>\n",
       "</table>\n",
       "<p>2024 rows × 16 columns</p>\n",
       "</div>"
      ],
      "text/plain": [
       "               Point of Care Source System  Accession Number Modality  \\\n",
       "Organization                                                            \n",
       "BOPCXR01      RAD X-RAY BOPC          EPIC       10022368934       XR   \n",
       "M02           RAD X-RAY PARN          EPIC       10022836851       XR   \n",
       "PDR9          RAD X-RAY PARN          EPIC       10022293363       XR   \n",
       "MBP6            RAD X-RAY MB          EPIC       10022775726       XR   \n",
       "PDR11         RAD X-RAY PARN          EPIC       10021748253       XR   \n",
       "...                      ...           ...               ...      ...   \n",
       "MBP7            RAD X-RAY MB          EPIC       10021725069       XR   \n",
       "PDR2          RAD X-RAY PARN          EPIC       10021724091       XR   \n",
       "PDR11         RAD X-RAY PARN          EPIC       10021723765       XR   \n",
       "PDR12         RAD X-RAY PARN          EPIC       10021723415       XR   \n",
       "PDR11         RAD X-RAY PARN          EPIC       10021723164       XR   \n",
       "\n",
       "             Exam Code                 Exam Description  CPT Code  \\\n",
       "Organization                                                        \n",
       "BOPCXR01         DCHE2  XR CHEST 2 VIEWS PA AND LATERAL     71020   \n",
       "M02              DCHE2  XR CHEST 2 VIEWS PA AND LATERAL     71020   \n",
       "PDR9             DCHE1               XR CHEST 1 VIEW AP     71010   \n",
       "MBP6             DCHE1               XR CHEST 1 VIEW AP     71010   \n",
       "PDR11            DCHE1               XR CHEST 1 VIEW AP     71010   \n",
       "...                ...                              ...       ...   \n",
       "MBP7             DCHE1               XR CHEST 1 VIEW AP     71010   \n",
       "PDR2             DCHE1               XR CHEST 1 VIEW AP     71010   \n",
       "PDR11            DCHE1               XR CHEST 1 VIEW AP     71010   \n",
       "PDR12            DCHE1               XR CHEST 1 VIEW AP     71010   \n",
       "PDR11            DCHE1               XR CHEST 1 VIEW AP     71010   \n",
       "\n",
       "                                                    Report Text  Is Stat  \\\n",
       "Organization                                                               \n",
       "BOPCXR01      XR CHEST 2 VIEWS PA AND LATERAL   8/26/2022 4:...    False   \n",
       "M02           XR CHEST 2 VIEWS PA AND LATERAL   1/25/2023 7:...    False   \n",
       "PDR9          XR CHEST 1 VIEW AP   8/3/2022 5:33 AM\\nHISTORY...    False   \n",
       "MBP6          XR CHEST 1 VIEW AP   1/6/2023 7:32 PM\\nHISTORY...    False   \n",
       "PDR11         INDICATION:\\nXR CHEST 1 VIEW AP   1/11/2022 3:...    False   \n",
       "...                                                         ...      ...   \n",
       "MBP7          INDICATION:\\nXR CHEST 1 VIEW AP   1/3/2022 10:...    False   \n",
       "PDR2          INDICATION:\\nXR CHEST 1 VIEW AP   1/2/2022 5:0...    False   \n",
       "PDR11         INDICATION:\\nXR CHEST 1 VIEW AP   1/2/2022 7:5...    False   \n",
       "PDR12         INDICATION:\\nXR CHEST 1 VIEW AP   1/1/2022 4:1...    False   \n",
       "PDR11         INDICATION:\\nXR CHEST 1 VIEW AP   1/1/2022 6:2...    False   \n",
       "\n",
       "             Patient Status Patient Sex  Patient Age  comm  Downloaded  \\\n",
       "Organization                                                             \n",
       "BOPCXR01         Outpatient        Male         67.0     0        True   \n",
       "M02               Inpatient      Female         52.0     0        True   \n",
       "PDR9              Inpatient      Female         77.0     0        True   \n",
       "MBP6             Outpatient      Female         58.0     0        True   \n",
       "PDR11             Emergency      Female         52.0     0        True   \n",
       "...                     ...         ...          ...   ...         ...   \n",
       "MBP7              Inpatient      Female         37.0     1        True   \n",
       "PDR2              Inpatient        Male         51.0     1        True   \n",
       "PDR11             Inpatient        Male         74.0     1        True   \n",
       "PDR12             Inpatient        Male         69.0     1        True   \n",
       "PDR11             Inpatient        Male         51.0     1        True   \n",
       "\n",
       "                                                        Caption  \\\n",
       "Organization                                                      \n",
       "BOPCXR01      Clear lungs. No findings suggest active tuberc...   \n",
       "M02           Moderate amount of pneumoperitoneum and subcut...   \n",
       "PDR9          Increased bilateral basilar predominant hazy o...   \n",
       "MBP6          Low lung volumes with mild patchy bibasilar op...   \n",
       "PDR11         Subclavian stents on the right.\\nLungs clear. ...   \n",
       "...                                                         ...   \n",
       "MBP7          Interval right extremity PICC placement with t...   \n",
       "PDR2          New large right pneumothorax with associated c...   \n",
       "PDR11         Interval removal of enteric tube and right int...   \n",
       "PDR12         Significantly increased size of the now large ...   \n",
       "PDR11         Endotracheal tube slightly advanced now again ...   \n",
       "\n",
       "                                                       DCM Path  \n",
       "Organization                                                     \n",
       "BOPCXR01      /mnt/sohn2022/UCSF_secure_cxr_data/raw/1002236...  \n",
       "M02           /mnt/sohn2022/UCSF_secure_cxr_data/raw/1002283...  \n",
       "PDR9          /mnt/sohn2022/UCSF_secure_cxr_data/raw/1002229...  \n",
       "MBP6          /mnt/sohn2022/UCSF_secure_cxr_data/raw/1002277...  \n",
       "PDR11         /mnt/sohn2022/UCSF_secure_cxr_data/raw/1002174...  \n",
       "...                                                         ...  \n",
       "MBP7          /mnt/sohn2022/UCSF_secure_cxr_data/raw/1002172...  \n",
       "PDR2          /mnt/sohn2022/UCSF_secure_cxr_data/raw/1002172...  \n",
       "PDR11         /mnt/sohn2022/UCSF_secure_cxr_data/raw/1002172...  \n",
       "PDR12         /mnt/sohn2022/UCSF_secure_cxr_data/raw/1002172...  \n",
       "PDR11         /mnt/sohn2022/UCSF_secure_cxr_data/raw/1002172...  \n",
       "\n",
       "[2024 rows x 16 columns]"
      ]
     },
     "execution_count": 8,
     "metadata": {},
     "output_type": "execute_result"
    }
   ],
   "source": [
    "data = pd.read_csv('data/data_processed.csv',index_col=0)\n",
    "data"
   ]
  },
  {
   "cell_type": "code",
   "execution_count": 9,
   "metadata": {
    "id": "ivIbjszoft8X"
   },
   "outputs": [],
   "source": [
    "cfg_path = \"COCO-InstanceSegmentation/mask_rcnn_R_101_FPN_3x.yaml\"\n",
    "\n",
    "def load_config_and_model_weights(cfg_path):\n",
    "    cfg = get_cfg()\n",
    "    cfg.merge_from_file(model_zoo.get_config_file(cfg_path))\n",
    "\n",
    "    # ROI HEADS SCORE THRESHOLD\n",
    "    cfg.MODEL.ROI_HEADS.SCORE_THRESH_TEST = 0.5\n",
    "\n",
    "    # Comment the next line if you're using 'cuda'\n",
    "    cfg['MODEL']['DEVICE']='cpu'\n",
    "\n",
    "    cfg.MODEL.WEIGHTS = model_zoo.get_checkpoint_url(cfg_path)\n",
    "\n",
    "    return cfg\n",
    "\n",
    "cfg = load_config_and_model_weights(cfg_path)"
   ]
  },
  {
   "cell_type": "code",
   "execution_count": 10,
   "metadata": {
    "colab": {
     "base_uri": "https://localhost:8080/"
    },
    "id": "VLl8tafNfwqc",
    "outputId": "723a5860-3a80-4dc3-f7f4-3ab7ae40b0b9"
   },
   "outputs": [
    {
     "name": "stderr",
     "output_type": "stream",
     "text": [
      "The checkpoint state_dict contains keys that are not used by the model:\n",
      "  \u001b[35mproposal_generator.anchor_generator.cell_anchors.{0, 1, 2, 3, 4}\u001b[0m\n"
     ]
    }
   ],
   "source": [
    "def get_model(cfg):\n",
    "    # build model\n",
    "    model = build_model(cfg)\n",
    "\n",
    "    # load weights\n",
    "    checkpointer = DetectionCheckpointer(model)\n",
    "    checkpointer.load(cfg.MODEL.WEIGHTS)\n",
    "\n",
    "    # eval mode\n",
    "    model.eval()\n",
    "    return model\n",
    "\n",
    "model = get_model(cfg)"
   ]
  },
  {
   "cell_type": "code",
   "execution_count": 11,
   "metadata": {
    "id": "wRLoNrtdf5EU"
   },
   "outputs": [],
   "source": [
    "def prepare_image_inputs(cfg, img_list):\n",
    "    # Resizing the image according to the configuration\n",
    "    transform_gen = T.ResizeShortestEdge(\n",
    "                [cfg.INPUT.MIN_SIZE_TEST, cfg.INPUT.MIN_SIZE_TEST], cfg.INPUT.MAX_SIZE_TEST\n",
    "            )\n",
    "    img_list = [transform_gen.get_transform(img).apply_image(img) for img in img_list]\n",
    "\n",
    "    # Convert to C,H,W format\n",
    "    convert_to_tensor = lambda x: torch.Tensor(x.astype(\"float32\").transpose(2, 0, 1))\n",
    "\n",
    "    batched_inputs = [{\"image\":convert_to_tensor(img), \"height\": img.shape[0], \"width\": img.shape[1]} for img in img_list]\n",
    "\n",
    "    # Normalizing the image\n",
    "    num_channels = len(cfg.MODEL.PIXEL_MEAN)\n",
    "    pixel_mean = torch.Tensor(cfg.MODEL.PIXEL_MEAN).view(num_channels, 1, 1)\n",
    "    pixel_std = torch.Tensor(cfg.MODEL.PIXEL_STD).view(num_channels, 1, 1)\n",
    "    normalizer = lambda x: (x - pixel_mean) / pixel_std\n",
    "    images = [normalizer(x[\"image\"]) for x in batched_inputs]\n",
    "\n",
    "    # Convert to ImageList\n",
    "    images =  ImageList.from_tensors(images,model.backbone.size_divisibility)\n",
    "    \n",
    "    return images, batched_inputs"
   ]
  },
  {
   "cell_type": "code",
   "execution_count": 12,
   "metadata": {
    "id": "27L06EqkouuV"
   },
   "outputs": [],
   "source": [
    "def get_features(model, images):\n",
    "    features = model.backbone(images.tensor)\n",
    "    return features"
   ]
  },
  {
   "cell_type": "code",
   "execution_count": 13,
   "metadata": {
    "id": "f9MPMlxAi86U"
   },
   "outputs": [],
   "source": [
    "def get_proposals(model, images, features):\n",
    "    proposals, _ = model.proposal_generator(images, features)\n",
    "    return proposals"
   ]
  },
  {
   "cell_type": "code",
   "execution_count": 14,
   "metadata": {
    "id": "fOOPt3igo9rZ"
   },
   "outputs": [],
   "source": [
    "def get_box_features(model, features, proposals):\n",
    "    features_list = [features[f] for f in ['p2', 'p3', 'p4', 'p5']]\n",
    "    box_features = model.roi_heads.box_pooler(features_list, [x.proposal_boxes for x in proposals])\n",
    "    box_features = model.roi_heads.box_head.flatten(box_features)\n",
    "    box_features = model.roi_heads.box_head.fc1(box_features)\n",
    "    box_features = model.roi_heads.box_head.fc_relu1(box_features)\n",
    "    box_features = model.roi_heads.box_head.fc2(box_features)\n",
    "\n",
    "    box_features = box_features.reshape(1, box_features.shape[0], box_features.shape[1]) # depends on your config and batch size\n",
    "    return box_features, features_list"
   ]
  },
  {
   "cell_type": "code",
   "execution_count": 15,
   "metadata": {
    "id": "cdyHvH1gpA-j"
   },
   "outputs": [],
   "source": [
    "def get_prediction_logits(model, features_list, proposals):\n",
    "    cls_features = model.roi_heads.box_pooler(features_list, [x.proposal_boxes for x in proposals])\n",
    "    cls_features = model.roi_heads.box_head(cls_features)\n",
    "    pred_class_logits, pred_proposal_deltas = model.roi_heads.box_predictor(cls_features)\n",
    "    return pred_class_logits, pred_proposal_deltas"
   ]
  },
  {
   "cell_type": "code",
   "execution_count": 16,
   "metadata": {
    "id": "an7xDWnEpDT8"
   },
   "outputs": [],
   "source": [
    "def get_box_scores(cfg, pred_class_logits, pred_proposal_deltas):\n",
    "    box2box_transform = Box2BoxTransform(weights=cfg.MODEL.ROI_BOX_HEAD.BBOX_REG_WEIGHTS)\n",
    "    smooth_l1_beta = cfg.MODEL.ROI_BOX_HEAD.SMOOTH_L1_BETA\n",
    "\n",
    "    outputs = FastRCNNOutputs(\n",
    "        box2box_transform,\n",
    "        pred_class_logits,\n",
    "        pred_proposal_deltas,\n",
    "        proposals,\n",
    "        smooth_l1_beta,\n",
    "    )\n",
    "\n",
    "    boxes = outputs.predict_boxes()\n",
    "    scores = outputs.predict_probs()\n",
    "    image_shapes = outputs.image_shapes\n",
    "\n",
    "    return boxes, scores, image_shapes"
   ]
  },
  {
   "cell_type": "code",
   "execution_count": 17,
   "metadata": {
    "id": "SxSNjxpNpG8t"
   },
   "outputs": [],
   "source": [
    "def get_output_boxes(boxes, batched_inputs, image_size):\n",
    "    proposal_boxes = boxes.reshape(-1, 4).clone()\n",
    "    scale_x, scale_y = (batched_inputs[\"width\"] / image_size[1], batched_inputs[\"height\"] / image_size[0])\n",
    "    output_boxes = Boxes(proposal_boxes)\n",
    "\n",
    "    output_boxes.scale(scale_x, scale_y)\n",
    "    output_boxes.clip(image_size)\n",
    "\n",
    "    return output_boxes"
   ]
  },
  {
   "cell_type": "code",
   "execution_count": 18,
   "metadata": {
    "id": "s7e3UPzZpNM3"
   },
   "outputs": [],
   "source": [
    "def select_boxes(cfg, output_boxes, scores):\n",
    "    test_score_thresh = cfg.MODEL.ROI_HEADS.SCORE_THRESH_TEST\n",
    "    test_nms_thresh = cfg.MODEL.ROI_HEADS.NMS_THRESH_TEST\n",
    "    cls_prob = scores.detach().cpu()\n",
    "    cls_boxes = output_boxes.tensor.detach().reshape(output_boxes.tensor.shape[0]//80,80,4).cpu()\n",
    "    max_conf = torch.zeros((cls_boxes.shape[0]))\n",
    "    for cls_ind in range(0, cls_prob.shape[1]-1):\n",
    "        cls_scores = cls_prob[:, cls_ind+1]\n",
    "        det_boxes = cls_boxes[:,cls_ind,:]\n",
    "        keep = np.array(nms(det_boxes, cls_scores, test_nms_thresh))\n",
    "        max_conf[keep] = torch.where(cls_scores[keep] > max_conf[keep], cls_scores[keep], max_conf[keep])\n",
    "    keep_boxes = torch.where(max_conf >= test_score_thresh)[0]\n",
    "    return keep_boxes, max_conf"
   ]
  },
  {
   "cell_type": "code",
   "execution_count": 19,
   "metadata": {
    "id": "afOgO_cNpQpI"
   },
   "outputs": [],
   "source": [
    "MIN_BOXES=10\n",
    "MAX_BOXES=100\n",
    "def filter_boxes(keep_boxes, max_conf, min_boxes, max_boxes):\n",
    "    if len(keep_boxes) < min_boxes:\n",
    "        keep_boxes = np.argsort(max_conf).numpy()[::-1][:min_boxes]\n",
    "    elif len(keep_boxes) > max_boxes:\n",
    "        keep_boxes = np.argsort(max_conf).numpy()[::-1][:max_boxes]\n",
    "    return keep_boxes"
   ]
  },
  {
   "cell_type": "code",
   "execution_count": 20,
   "metadata": {
    "id": "EenJCv9_pTTE"
   },
   "outputs": [],
   "source": [
    "def get_visual_embeds(box_features, keep_boxes):\n",
    "    return box_features[keep_boxes.copy()]"
   ]
  },
  {
   "cell_type": "code",
   "execution_count": 25,
   "metadata": {
    "colab": {
     "base_uri": "https://localhost:8080/",
     "height": 49,
     "referenced_widgets": [
      "3bb34947926e4cdc8bce11183bd7faff",
      "7254bd1575cf46b79975cc52b411374c",
      "354254e63b7a4a9599bc388a57289d14",
      "c34c46c71045417ea49136c734b2de98",
      "859565b77e584f1e83f1bf8475db2e22",
      "ecff9a8ef17f4f8b85c4c1c18305174d",
      "f3c8cff3ae45483fb2c985391ce765f3",
      "d893ef9063904cf68efa901067a47461",
      "af92275fb4ba44f3b901b5715d187fb5",
      "1599aeafd8d04c938fda31ee95029ede",
      "649201e0bc6446768f7cc0774ce1f48e"
     ]
    },
    "id": "K9OyXsT8i9Pz",
    "outputId": "b9a8a167-3f0f-441c-d0ef-1b54325018b4"
   },
   "outputs": [
    {
     "data": {
      "application/vnd.jupyter.widget-view+json": {
       "model_id": "67df3cd9f3794bed9e51710841933794",
       "version_major": 2,
       "version_minor": 0
      },
      "text/plain": [
       "  0%|          | 0/2024 [00:00<?, ?it/s]"
      ]
     },
     "metadata": {},
     "output_type": "display_data"
    }
   ],
   "source": [
    "from tqdm.auto import tqdm\n",
    "import pydicom\n",
    "\n",
    "bgr_images = []\n",
    "for image in tqdm(data['DCM Path']):\n",
    "    img = pydicom.dcmread(image)\n",
    "    img = np.asarray(img.pixel_array)\n",
    "    img = cv2.cvtColor(img, cv2.COLOR_RGB2BGR)\n",
    "    img = cv2.convertScaleAbs(img)\n",
    "    bgr_images.append(img)"
   ]
  },
  {
   "cell_type": "code",
   "execution_count": 26,
   "metadata": {
    "colab": {
     "base_uri": "https://localhost:8080/"
    },
    "id": "1-TimG9Um0qJ",
    "outputId": "8834190b-a42c-42f9-b32e-ae01a5c7eada"
   },
   "outputs": [
    {
     "data": {
      "text/plain": [
       "2024"
      ]
     },
     "execution_count": 26,
     "metadata": {},
     "output_type": "execute_result"
    }
   ],
   "source": [
    "len(bgr_images)"
   ]
  },
  {
   "cell_type": "code",
   "execution_count": 28,
   "metadata": {
    "colab": {
     "base_uri": "https://localhost:8080/",
     "height": 140,
     "referenced_widgets": [
      "c2ade6afca21491f8f74f4cf8d3045c2",
      "9a713a8d132e44c2aaeb4c87cc24a840",
      "32c55c95226f4ff7bb167e5e04a90ba5",
      "8ecc5f793b2442068e1171241d8d36c9",
      "9fc47a10b6aa4d42b2085df8df1bb27f",
      "bf5ec9d891834b88b5f778bae0431448",
      "3328fc477139490facba28f90f6d4a47",
      "7f4ca1986b384d29ac140edd2e125fb6",
      "e2195696deaa4808a8a0708559fa0009",
      "46b8fcf7abcb4beab8c8c07d41382c99",
      "7cc155aaa2374497ab934c36f40016d8"
     ]
    },
    "id": "diKmKAlioqCB",
    "outputId": "ff42175c-b183-4d1e-814b-a90c5b8ef807"
   },
   "outputs": [
    {
     "data": {
      "application/vnd.jupyter.widget-view+json": {
       "model_id": "9c03b4d0032e45ea91cdc400896cab2d",
       "version_major": 2,
       "version_minor": 0
      },
      "text/plain": [
       "  0%|          | 0/2024 [00:00<?, ?it/s]"
      ]
     },
     "metadata": {},
     "output_type": "display_data"
    },
    {
     "name": "stderr",
     "output_type": "stream",
     "text": [
      "/home/bdrad/miniconda3/envs/eddie_env/lib/python3.9/site-packages/torch/functional.py:504: UserWarning: torch.meshgrid: in an upcoming release, it will be required to pass the indexing argument. (Triggered internally at ../aten/src/ATen/native/TensorShape.cpp:3483.)\n",
      "  return _VF.meshgrid(tensors, **kwargs)  # type: ignore[attr-defined]\n",
      "/tmp/ipykernel_791254/2082434858.py:38: UserWarning: To copy construct from a tensor, it is recommended to use sourceTensor.clone().detach() or sourceTensor.clone().detach().requires_grad_(True), rather than torch.tensor(sourceTensor).\n",
      "  visual_embed = [torch.tensor(get_visual_embeds(box_feature, keep_box)).to(device) for box_feature, keep_box in zip(box_features, keep_boxes)]\n"
     ]
    },
    {
     "ename": "RuntimeError",
     "evalue": "CUDA error: out of memory\nCUDA kernel errors might be asynchronously reported at some other API call, so the stacktrace below might be incorrect.\nFor debugging consider passing CUDA_LAUNCH_BLOCKING=1.\nCompile with `TORCH_USE_CUDA_DSA` to enable device-side assertions.\n",
     "output_type": "error",
     "traceback": [
      "\u001b[0;31m---------------------------------------------------------------------------\u001b[0m",
      "\u001b[0;31mRuntimeError\u001b[0m                              Traceback (most recent call last)",
      "Cell \u001b[0;32mIn[28], line 38\u001b[0m\n\u001b[1;32m     35\u001b[0m keep_boxes \u001b[38;5;241m=\u001b[39m [filter_boxes(keep_box, mx_conf, MIN_BOXES, MAX_BOXES) \u001b[38;5;28;01mfor\u001b[39;00m keep_box, mx_conf \u001b[38;5;129;01min\u001b[39;00m \u001b[38;5;28mzip\u001b[39m(keep_boxes, max_conf)]\n\u001b[1;32m     37\u001b[0m \u001b[38;5;66;03m# Get the visual embedding\u001b[39;00m\n\u001b[0;32m---> 38\u001b[0m visual_embed \u001b[38;5;241m=\u001b[39m [torch\u001b[38;5;241m.\u001b[39mtensor(get_visual_embeds(box_feature, keep_box))\u001b[38;5;241m.\u001b[39mto(device) \u001b[38;5;28;01mfor\u001b[39;00m box_feature, keep_box \u001b[38;5;129;01min\u001b[39;00m \u001b[38;5;28mzip\u001b[39m(box_features, keep_boxes)]\n\u001b[1;32m     39\u001b[0m visual_embeds\u001b[38;5;241m.\u001b[39mappend(visual_embed[\u001b[38;5;241m0\u001b[39m])\n",
      "Cell \u001b[0;32mIn[28], line 38\u001b[0m, in \u001b[0;36m<listcomp>\u001b[0;34m(.0)\u001b[0m\n\u001b[1;32m     35\u001b[0m keep_boxes \u001b[38;5;241m=\u001b[39m [filter_boxes(keep_box, mx_conf, MIN_BOXES, MAX_BOXES) \u001b[38;5;28;01mfor\u001b[39;00m keep_box, mx_conf \u001b[38;5;129;01min\u001b[39;00m \u001b[38;5;28mzip\u001b[39m(keep_boxes, max_conf)]\n\u001b[1;32m     37\u001b[0m \u001b[38;5;66;03m# Get the visual embedding\u001b[39;00m\n\u001b[0;32m---> 38\u001b[0m visual_embed \u001b[38;5;241m=\u001b[39m [\u001b[43mtorch\u001b[49m\u001b[38;5;241;43m.\u001b[39;49m\u001b[43mtensor\u001b[49m\u001b[43m(\u001b[49m\u001b[43mget_visual_embeds\u001b[49m\u001b[43m(\u001b[49m\u001b[43mbox_feature\u001b[49m\u001b[43m,\u001b[49m\u001b[43m \u001b[49m\u001b[43mkeep_box\u001b[49m\u001b[43m)\u001b[49m\u001b[43m)\u001b[49m\u001b[38;5;241;43m.\u001b[39;49m\u001b[43mto\u001b[49m\u001b[43m(\u001b[49m\u001b[43mdevice\u001b[49m\u001b[43m)\u001b[49m \u001b[38;5;28;01mfor\u001b[39;00m box_feature, keep_box \u001b[38;5;129;01min\u001b[39;00m \u001b[38;5;28mzip\u001b[39m(box_features, keep_boxes)]\n\u001b[1;32m     39\u001b[0m visual_embeds\u001b[38;5;241m.\u001b[39mappend(visual_embed[\u001b[38;5;241m0\u001b[39m])\n",
      "\u001b[0;31mRuntimeError\u001b[0m: CUDA error: out of memory\nCUDA kernel errors might be asynchronously reported at some other API call, so the stacktrace below might be incorrect.\nFor debugging consider passing CUDA_LAUNCH_BLOCKING=1.\nCompile with `TORCH_USE_CUDA_DSA` to enable device-side assertions.\n"
     ]
    }
   ],
   "source": [
    "from tqdm.auto import tqdm\n",
    "\n",
    "visual_embeds = []\n",
    "\n",
    "for image in tqdm(bgr_images):\n",
    "    # Convert Image to Model Input\n",
    "    image, batched_inputs = prepare_image_inputs(cfg, [image])\n",
    "\n",
    "    # Get ResNet+FPN features\n",
    "    features = get_features(model, image)\n",
    "\n",
    "    # Get region proposals from RPN\n",
    "    proposals = get_proposals(model, image, features)\n",
    "  \n",
    "    # Get Box Features for the proposals\n",
    "    box_features, features_list = get_box_features(model, features, proposals)\n",
    "\n",
    "    # Get prediction logits and boxes\n",
    "    pred_class_logits, pred_proposal_deltas = get_prediction_logits(model, features_list, proposals)\n",
    "\n",
    "    # Get FastRCNN scores and boxes\n",
    "    boxes, scores, image_shapes = get_box_scores(cfg, pred_class_logits, pred_proposal_deltas)\n",
    "\n",
    "    # Rescale the boxes to original image size\n",
    "    output_boxes = [get_output_boxes(boxes[i], batched_inputs[i], proposals[i].image_size) for i in range(len(proposals))]\n",
    "\n",
    "    # Select the Boxes using NMS\n",
    "    temp = [select_boxes(cfg, output_boxes[i], scores[i]) for i in range(len(scores))]\n",
    "    keep_boxes, max_conf = [], []\n",
    "    for keep_box, mx_conf in temp:\n",
    "        keep_boxes.append(keep_box)\n",
    "        max_conf.append(mx_conf)\n",
    "\n",
    "    # Limit the total number of boxes\n",
    "    keep_boxes = [filter_boxes(keep_box, mx_conf, MIN_BOXES, MAX_BOXES) for keep_box, mx_conf in zip(keep_boxes, max_conf)]\n",
    "\n",
    "    # Get the visual embedding\n",
    "    visual_embed = [torch.tensor(get_visual_embeds(box_feature, keep_box)).to(device) for box_feature, keep_box in zip(box_features, keep_boxes)]\n",
    "    visual_embeds.append(visual_embed[0])"
   ]
  },
  {
   "cell_type": "code",
   "execution_count": 56,
   "metadata": {
    "colab": {
     "base_uri": "https://localhost:8080/"
    },
    "id": "3w83asBux0ay",
    "outputId": "6c980974-0b1e-4e69-9f82-066a0db06969"
   },
   "outputs": [
    {
     "data": {
      "text/plain": [
       "torch.Size([100, 1024])"
      ]
     },
     "execution_count": 56,
     "metadata": {},
     "output_type": "execute_result"
    }
   ],
   "source": [
    "visual_embeds[0].shape"
   ]
  },
  {
   "cell_type": "code",
   "execution_count": 57,
   "metadata": {
    "id": "7MuIZUdSzeGR"
   },
   "outputs": [],
   "source": [
    "import pickle \n",
    "\n",
    "with open('visual_embeds.pkl', 'wb') as f:\n",
    "    pickle.dump(visual_embeds, f)"
   ]
  }
 ],
 "metadata": {
  "accelerator": "GPU",
  "colab": {
   "authorship_tag": "ABX9TyOJYv3jwQ43CXaUk2ILUvv2",
   "include_colab_link": true,
   "provenance": []
  },
  "gpuClass": "standard",
  "kernelspec": {
   "display_name": "Python 3 (ipykernel)",
   "language": "python",
   "name": "python3"
  },
  "language_info": {
   "codemirror_mode": {
    "name": "ipython",
    "version": 3
   },
   "file_extension": ".py",
   "mimetype": "text/x-python",
   "name": "python",
   "nbconvert_exporter": "python",
   "pygments_lexer": "ipython3",
   "version": "3.9.16"
  },
  "widgets": {
   "application/vnd.jupyter.widget-state+json": {
    "1599aeafd8d04c938fda31ee95029ede": {
     "model_module": "@jupyter-widgets/base",
     "model_module_version": "1.2.0",
     "model_name": "LayoutModel",
     "state": {
      "_model_module": "@jupyter-widgets/base",
      "_model_module_version": "1.2.0",
      "_model_name": "LayoutModel",
      "_view_count": null,
      "_view_module": "@jupyter-widgets/base",
      "_view_module_version": "1.2.0",
      "_view_name": "LayoutView",
      "align_content": null,
      "align_items": null,
      "align_self": null,
      "border": null,
      "bottom": null,
      "display": null,
      "flex": null,
      "flex_flow": null,
      "grid_area": null,
      "grid_auto_columns": null,
      "grid_auto_flow": null,
      "grid_auto_rows": null,
      "grid_column": null,
      "grid_gap": null,
      "grid_row": null,
      "grid_template_areas": null,
      "grid_template_columns": null,
      "grid_template_rows": null,
      "height": null,
      "justify_content": null,
      "justify_items": null,
      "left": null,
      "margin": null,
      "max_height": null,
      "max_width": null,
      "min_height": null,
      "min_width": null,
      "object_fit": null,
      "object_position": null,
      "order": null,
      "overflow": null,
      "overflow_x": null,
      "overflow_y": null,
      "padding": null,
      "right": null,
      "top": null,
      "visibility": null,
      "width": null
     }
    },
    "32c55c95226f4ff7bb167e5e04a90ba5": {
     "model_module": "@jupyter-widgets/controls",
     "model_module_version": "1.5.0",
     "model_name": "FloatProgressModel",
     "state": {
      "_dom_classes": [],
      "_model_module": "@jupyter-widgets/controls",
      "_model_module_version": "1.5.0",
      "_model_name": "FloatProgressModel",
      "_view_count": null,
      "_view_module": "@jupyter-widgets/controls",
      "_view_module_version": "1.5.0",
      "_view_name": "ProgressView",
      "bar_style": "success",
      "description": "",
      "description_tooltip": null,
      "layout": "IPY_MODEL_7f4ca1986b384d29ac140edd2e125fb6",
      "max": 100,
      "min": 0,
      "orientation": "horizontal",
      "style": "IPY_MODEL_e2195696deaa4808a8a0708559fa0009",
      "value": 100
     }
    },
    "3328fc477139490facba28f90f6d4a47": {
     "model_module": "@jupyter-widgets/controls",
     "model_module_version": "1.5.0",
     "model_name": "DescriptionStyleModel",
     "state": {
      "_model_module": "@jupyter-widgets/controls",
      "_model_module_version": "1.5.0",
      "_model_name": "DescriptionStyleModel",
      "_view_count": null,
      "_view_module": "@jupyter-widgets/base",
      "_view_module_version": "1.2.0",
      "_view_name": "StyleView",
      "description_width": ""
     }
    },
    "354254e63b7a4a9599bc388a57289d14": {
     "model_module": "@jupyter-widgets/controls",
     "model_module_version": "1.5.0",
     "model_name": "FloatProgressModel",
     "state": {
      "_dom_classes": [],
      "_model_module": "@jupyter-widgets/controls",
      "_model_module_version": "1.5.0",
      "_model_name": "FloatProgressModel",
      "_view_count": null,
      "_view_module": "@jupyter-widgets/controls",
      "_view_module_version": "1.5.0",
      "_view_name": "ProgressView",
      "bar_style": "success",
      "description": "",
      "description_tooltip": null,
      "layout": "IPY_MODEL_d893ef9063904cf68efa901067a47461",
      "max": 100,
      "min": 0,
      "orientation": "horizontal",
      "style": "IPY_MODEL_af92275fb4ba44f3b901b5715d187fb5",
      "value": 100
     }
    },
    "3bb34947926e4cdc8bce11183bd7faff": {
     "model_module": "@jupyter-widgets/controls",
     "model_module_version": "1.5.0",
     "model_name": "HBoxModel",
     "state": {
      "_dom_classes": [],
      "_model_module": "@jupyter-widgets/controls",
      "_model_module_version": "1.5.0",
      "_model_name": "HBoxModel",
      "_view_count": null,
      "_view_module": "@jupyter-widgets/controls",
      "_view_module_version": "1.5.0",
      "_view_name": "HBoxView",
      "box_style": "",
      "children": [
       "IPY_MODEL_7254bd1575cf46b79975cc52b411374c",
       "IPY_MODEL_354254e63b7a4a9599bc388a57289d14",
       "IPY_MODEL_c34c46c71045417ea49136c734b2de98"
      ],
      "layout": "IPY_MODEL_859565b77e584f1e83f1bf8475db2e22"
     }
    },
    "46b8fcf7abcb4beab8c8c07d41382c99": {
     "model_module": "@jupyter-widgets/base",
     "model_module_version": "1.2.0",
     "model_name": "LayoutModel",
     "state": {
      "_model_module": "@jupyter-widgets/base",
      "_model_module_version": "1.2.0",
      "_model_name": "LayoutModel",
      "_view_count": null,
      "_view_module": "@jupyter-widgets/base",
      "_view_module_version": "1.2.0",
      "_view_name": "LayoutView",
      "align_content": null,
      "align_items": null,
      "align_self": null,
      "border": null,
      "bottom": null,
      "display": null,
      "flex": null,
      "flex_flow": null,
      "grid_area": null,
      "grid_auto_columns": null,
      "grid_auto_flow": null,
      "grid_auto_rows": null,
      "grid_column": null,
      "grid_gap": null,
      "grid_row": null,
      "grid_template_areas": null,
      "grid_template_columns": null,
      "grid_template_rows": null,
      "height": null,
      "justify_content": null,
      "justify_items": null,
      "left": null,
      "margin": null,
      "max_height": null,
      "max_width": null,
      "min_height": null,
      "min_width": null,
      "object_fit": null,
      "object_position": null,
      "order": null,
      "overflow": null,
      "overflow_x": null,
      "overflow_y": null,
      "padding": null,
      "right": null,
      "top": null,
      "visibility": null,
      "width": null
     }
    },
    "649201e0bc6446768f7cc0774ce1f48e": {
     "model_module": "@jupyter-widgets/controls",
     "model_module_version": "1.5.0",
     "model_name": "DescriptionStyleModel",
     "state": {
      "_model_module": "@jupyter-widgets/controls",
      "_model_module_version": "1.5.0",
      "_model_name": "DescriptionStyleModel",
      "_view_count": null,
      "_view_module": "@jupyter-widgets/base",
      "_view_module_version": "1.2.0",
      "_view_name": "StyleView",
      "description_width": ""
     }
    },
    "7254bd1575cf46b79975cc52b411374c": {
     "model_module": "@jupyter-widgets/controls",
     "model_module_version": "1.5.0",
     "model_name": "HTMLModel",
     "state": {
      "_dom_classes": [],
      "_model_module": "@jupyter-widgets/controls",
      "_model_module_version": "1.5.0",
      "_model_name": "HTMLModel",
      "_view_count": null,
      "_view_module": "@jupyter-widgets/controls",
      "_view_module_version": "1.5.0",
      "_view_name": "HTMLView",
      "description": "",
      "description_tooltip": null,
      "layout": "IPY_MODEL_ecff9a8ef17f4f8b85c4c1c18305174d",
      "placeholder": "​",
      "style": "IPY_MODEL_f3c8cff3ae45483fb2c985391ce765f3",
      "value": "100%"
     }
    },
    "7cc155aaa2374497ab934c36f40016d8": {
     "model_module": "@jupyter-widgets/controls",
     "model_module_version": "1.5.0",
     "model_name": "DescriptionStyleModel",
     "state": {
      "_model_module": "@jupyter-widgets/controls",
      "_model_module_version": "1.5.0",
      "_model_name": "DescriptionStyleModel",
      "_view_count": null,
      "_view_module": "@jupyter-widgets/base",
      "_view_module_version": "1.2.0",
      "_view_name": "StyleView",
      "description_width": ""
     }
    },
    "7f4ca1986b384d29ac140edd2e125fb6": {
     "model_module": "@jupyter-widgets/base",
     "model_module_version": "1.2.0",
     "model_name": "LayoutModel",
     "state": {
      "_model_module": "@jupyter-widgets/base",
      "_model_module_version": "1.2.0",
      "_model_name": "LayoutModel",
      "_view_count": null,
      "_view_module": "@jupyter-widgets/base",
      "_view_module_version": "1.2.0",
      "_view_name": "LayoutView",
      "align_content": null,
      "align_items": null,
      "align_self": null,
      "border": null,
      "bottom": null,
      "display": null,
      "flex": null,
      "flex_flow": null,
      "grid_area": null,
      "grid_auto_columns": null,
      "grid_auto_flow": null,
      "grid_auto_rows": null,
      "grid_column": null,
      "grid_gap": null,
      "grid_row": null,
      "grid_template_areas": null,
      "grid_template_columns": null,
      "grid_template_rows": null,
      "height": null,
      "justify_content": null,
      "justify_items": null,
      "left": null,
      "margin": null,
      "max_height": null,
      "max_width": null,
      "min_height": null,
      "min_width": null,
      "object_fit": null,
      "object_position": null,
      "order": null,
      "overflow": null,
      "overflow_x": null,
      "overflow_y": null,
      "padding": null,
      "right": null,
      "top": null,
      "visibility": null,
      "width": null
     }
    },
    "859565b77e584f1e83f1bf8475db2e22": {
     "model_module": "@jupyter-widgets/base",
     "model_module_version": "1.2.0",
     "model_name": "LayoutModel",
     "state": {
      "_model_module": "@jupyter-widgets/base",
      "_model_module_version": "1.2.0",
      "_model_name": "LayoutModel",
      "_view_count": null,
      "_view_module": "@jupyter-widgets/base",
      "_view_module_version": "1.2.0",
      "_view_name": "LayoutView",
      "align_content": null,
      "align_items": null,
      "align_self": null,
      "border": null,
      "bottom": null,
      "display": null,
      "flex": null,
      "flex_flow": null,
      "grid_area": null,
      "grid_auto_columns": null,
      "grid_auto_flow": null,
      "grid_auto_rows": null,
      "grid_column": null,
      "grid_gap": null,
      "grid_row": null,
      "grid_template_areas": null,
      "grid_template_columns": null,
      "grid_template_rows": null,
      "height": null,
      "justify_content": null,
      "justify_items": null,
      "left": null,
      "margin": null,
      "max_height": null,
      "max_width": null,
      "min_height": null,
      "min_width": null,
      "object_fit": null,
      "object_position": null,
      "order": null,
      "overflow": null,
      "overflow_x": null,
      "overflow_y": null,
      "padding": null,
      "right": null,
      "top": null,
      "visibility": null,
      "width": null
     }
    },
    "8ecc5f793b2442068e1171241d8d36c9": {
     "model_module": "@jupyter-widgets/controls",
     "model_module_version": "1.5.0",
     "model_name": "HTMLModel",
     "state": {
      "_dom_classes": [],
      "_model_module": "@jupyter-widgets/controls",
      "_model_module_version": "1.5.0",
      "_model_name": "HTMLModel",
      "_view_count": null,
      "_view_module": "@jupyter-widgets/controls",
      "_view_module_version": "1.5.0",
      "_view_name": "HTMLView",
      "description": "",
      "description_tooltip": null,
      "layout": "IPY_MODEL_46b8fcf7abcb4beab8c8c07d41382c99",
      "placeholder": "​",
      "style": "IPY_MODEL_7cc155aaa2374497ab934c36f40016d8",
      "value": " 100/100 [14:21&lt;00:00,  9.06s/it]"
     }
    },
    "9a713a8d132e44c2aaeb4c87cc24a840": {
     "model_module": "@jupyter-widgets/controls",
     "model_module_version": "1.5.0",
     "model_name": "HTMLModel",
     "state": {
      "_dom_classes": [],
      "_model_module": "@jupyter-widgets/controls",
      "_model_module_version": "1.5.0",
      "_model_name": "HTMLModel",
      "_view_count": null,
      "_view_module": "@jupyter-widgets/controls",
      "_view_module_version": "1.5.0",
      "_view_name": "HTMLView",
      "description": "",
      "description_tooltip": null,
      "layout": "IPY_MODEL_bf5ec9d891834b88b5f778bae0431448",
      "placeholder": "​",
      "style": "IPY_MODEL_3328fc477139490facba28f90f6d4a47",
      "value": "100%"
     }
    },
    "9fc47a10b6aa4d42b2085df8df1bb27f": {
     "model_module": "@jupyter-widgets/base",
     "model_module_version": "1.2.0",
     "model_name": "LayoutModel",
     "state": {
      "_model_module": "@jupyter-widgets/base",
      "_model_module_version": "1.2.0",
      "_model_name": "LayoutModel",
      "_view_count": null,
      "_view_module": "@jupyter-widgets/base",
      "_view_module_version": "1.2.0",
      "_view_name": "LayoutView",
      "align_content": null,
      "align_items": null,
      "align_self": null,
      "border": null,
      "bottom": null,
      "display": null,
      "flex": null,
      "flex_flow": null,
      "grid_area": null,
      "grid_auto_columns": null,
      "grid_auto_flow": null,
      "grid_auto_rows": null,
      "grid_column": null,
      "grid_gap": null,
      "grid_row": null,
      "grid_template_areas": null,
      "grid_template_columns": null,
      "grid_template_rows": null,
      "height": null,
      "justify_content": null,
      "justify_items": null,
      "left": null,
      "margin": null,
      "max_height": null,
      "max_width": null,
      "min_height": null,
      "min_width": null,
      "object_fit": null,
      "object_position": null,
      "order": null,
      "overflow": null,
      "overflow_x": null,
      "overflow_y": null,
      "padding": null,
      "right": null,
      "top": null,
      "visibility": null,
      "width": null
     }
    },
    "af92275fb4ba44f3b901b5715d187fb5": {
     "model_module": "@jupyter-widgets/controls",
     "model_module_version": "1.5.0",
     "model_name": "ProgressStyleModel",
     "state": {
      "_model_module": "@jupyter-widgets/controls",
      "_model_module_version": "1.5.0",
      "_model_name": "ProgressStyleModel",
      "_view_count": null,
      "_view_module": "@jupyter-widgets/base",
      "_view_module_version": "1.2.0",
      "_view_name": "StyleView",
      "bar_color": null,
      "description_width": ""
     }
    },
    "bf5ec9d891834b88b5f778bae0431448": {
     "model_module": "@jupyter-widgets/base",
     "model_module_version": "1.2.0",
     "model_name": "LayoutModel",
     "state": {
      "_model_module": "@jupyter-widgets/base",
      "_model_module_version": "1.2.0",
      "_model_name": "LayoutModel",
      "_view_count": null,
      "_view_module": "@jupyter-widgets/base",
      "_view_module_version": "1.2.0",
      "_view_name": "LayoutView",
      "align_content": null,
      "align_items": null,
      "align_self": null,
      "border": null,
      "bottom": null,
      "display": null,
      "flex": null,
      "flex_flow": null,
      "grid_area": null,
      "grid_auto_columns": null,
      "grid_auto_flow": null,
      "grid_auto_rows": null,
      "grid_column": null,
      "grid_gap": null,
      "grid_row": null,
      "grid_template_areas": null,
      "grid_template_columns": null,
      "grid_template_rows": null,
      "height": null,
      "justify_content": null,
      "justify_items": null,
      "left": null,
      "margin": null,
      "max_height": null,
      "max_width": null,
      "min_height": null,
      "min_width": null,
      "object_fit": null,
      "object_position": null,
      "order": null,
      "overflow": null,
      "overflow_x": null,
      "overflow_y": null,
      "padding": null,
      "right": null,
      "top": null,
      "visibility": null,
      "width": null
     }
    },
    "c2ade6afca21491f8f74f4cf8d3045c2": {
     "model_module": "@jupyter-widgets/controls",
     "model_module_version": "1.5.0",
     "model_name": "HBoxModel",
     "state": {
      "_dom_classes": [],
      "_model_module": "@jupyter-widgets/controls",
      "_model_module_version": "1.5.0",
      "_model_name": "HBoxModel",
      "_view_count": null,
      "_view_module": "@jupyter-widgets/controls",
      "_view_module_version": "1.5.0",
      "_view_name": "HBoxView",
      "box_style": "",
      "children": [
       "IPY_MODEL_9a713a8d132e44c2aaeb4c87cc24a840",
       "IPY_MODEL_32c55c95226f4ff7bb167e5e04a90ba5",
       "IPY_MODEL_8ecc5f793b2442068e1171241d8d36c9"
      ],
      "layout": "IPY_MODEL_9fc47a10b6aa4d42b2085df8df1bb27f"
     }
    },
    "c34c46c71045417ea49136c734b2de98": {
     "model_module": "@jupyter-widgets/controls",
     "model_module_version": "1.5.0",
     "model_name": "HTMLModel",
     "state": {
      "_dom_classes": [],
      "_model_module": "@jupyter-widgets/controls",
      "_model_module_version": "1.5.0",
      "_model_name": "HTMLModel",
      "_view_count": null,
      "_view_module": "@jupyter-widgets/controls",
      "_view_module_version": "1.5.0",
      "_view_name": "HTMLView",
      "description": "",
      "description_tooltip": null,
      "layout": "IPY_MODEL_1599aeafd8d04c938fda31ee95029ede",
      "placeholder": "​",
      "style": "IPY_MODEL_649201e0bc6446768f7cc0774ce1f48e",
      "value": " 100/100 [00:56&lt;00:00,  2.09it/s]"
     }
    },
    "d893ef9063904cf68efa901067a47461": {
     "model_module": "@jupyter-widgets/base",
     "model_module_version": "1.2.0",
     "model_name": "LayoutModel",
     "state": {
      "_model_module": "@jupyter-widgets/base",
      "_model_module_version": "1.2.0",
      "_model_name": "LayoutModel",
      "_view_count": null,
      "_view_module": "@jupyter-widgets/base",
      "_view_module_version": "1.2.0",
      "_view_name": "LayoutView",
      "align_content": null,
      "align_items": null,
      "align_self": null,
      "border": null,
      "bottom": null,
      "display": null,
      "flex": null,
      "flex_flow": null,
      "grid_area": null,
      "grid_auto_columns": null,
      "grid_auto_flow": null,
      "grid_auto_rows": null,
      "grid_column": null,
      "grid_gap": null,
      "grid_row": null,
      "grid_template_areas": null,
      "grid_template_columns": null,
      "grid_template_rows": null,
      "height": null,
      "justify_content": null,
      "justify_items": null,
      "left": null,
      "margin": null,
      "max_height": null,
      "max_width": null,
      "min_height": null,
      "min_width": null,
      "object_fit": null,
      "object_position": null,
      "order": null,
      "overflow": null,
      "overflow_x": null,
      "overflow_y": null,
      "padding": null,
      "right": null,
      "top": null,
      "visibility": null,
      "width": null
     }
    },
    "e2195696deaa4808a8a0708559fa0009": {
     "model_module": "@jupyter-widgets/controls",
     "model_module_version": "1.5.0",
     "model_name": "ProgressStyleModel",
     "state": {
      "_model_module": "@jupyter-widgets/controls",
      "_model_module_version": "1.5.0",
      "_model_name": "ProgressStyleModel",
      "_view_count": null,
      "_view_module": "@jupyter-widgets/base",
      "_view_module_version": "1.2.0",
      "_view_name": "StyleView",
      "bar_color": null,
      "description_width": ""
     }
    },
    "ecff9a8ef17f4f8b85c4c1c18305174d": {
     "model_module": "@jupyter-widgets/base",
     "model_module_version": "1.2.0",
     "model_name": "LayoutModel",
     "state": {
      "_model_module": "@jupyter-widgets/base",
      "_model_module_version": "1.2.0",
      "_model_name": "LayoutModel",
      "_view_count": null,
      "_view_module": "@jupyter-widgets/base",
      "_view_module_version": "1.2.0",
      "_view_name": "LayoutView",
      "align_content": null,
      "align_items": null,
      "align_self": null,
      "border": null,
      "bottom": null,
      "display": null,
      "flex": null,
      "flex_flow": null,
      "grid_area": null,
      "grid_auto_columns": null,
      "grid_auto_flow": null,
      "grid_auto_rows": null,
      "grid_column": null,
      "grid_gap": null,
      "grid_row": null,
      "grid_template_areas": null,
      "grid_template_columns": null,
      "grid_template_rows": null,
      "height": null,
      "justify_content": null,
      "justify_items": null,
      "left": null,
      "margin": null,
      "max_height": null,
      "max_width": null,
      "min_height": null,
      "min_width": null,
      "object_fit": null,
      "object_position": null,
      "order": null,
      "overflow": null,
      "overflow_x": null,
      "overflow_y": null,
      "padding": null,
      "right": null,
      "top": null,
      "visibility": null,
      "width": null
     }
    },
    "f3c8cff3ae45483fb2c985391ce765f3": {
     "model_module": "@jupyter-widgets/controls",
     "model_module_version": "1.5.0",
     "model_name": "DescriptionStyleModel",
     "state": {
      "_model_module": "@jupyter-widgets/controls",
      "_model_module_version": "1.5.0",
      "_model_name": "DescriptionStyleModel",
      "_view_count": null,
      "_view_module": "@jupyter-widgets/base",
      "_view_module_version": "1.2.0",
      "_view_name": "StyleView",
      "description_width": ""
     }
    }
   }
  }
 },
 "nbformat": 4,
 "nbformat_minor": 1
}
